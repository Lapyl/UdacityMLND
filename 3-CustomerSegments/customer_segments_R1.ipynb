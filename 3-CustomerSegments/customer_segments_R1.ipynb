{
 "cells": [
  {
   "cell_type": "markdown",
   "metadata": {},
   "source": [
    "# Creating Customer Segments"
   ]
  },
  {
   "cell_type": "markdown",
   "metadata": {},
   "source": [
    "In this project you, will analyze a dataset containing annual spending amounts for internal structure, to understand the variation in the different types of customers that a wholesale distributor interacts with.\n",
    "\n",
    "Instructions:\n",
    "\n",
    "- Run each code block below by pressing **Shift+Enter**, making sure to implement any steps marked with a TODO.\n",
    "- Answer each question in the space provided by editing the blocks labeled \"Answer:\".\n",
    "- When you are done, submit the completed notebook (.ipynb) with all code blocks executed, as well as a .pdf version (File > Download as)."
   ]
  },
  {
   "cell_type": "code",
   "execution_count": 1,
   "metadata": {
    "collapsed": false
   },
   "outputs": [
    {
     "name": "stdout",
     "output_type": "stream",
     "text": [
      "N:\\DevMOOC\\UdacityMLnd\\P3Customer\n"
     ]
    }
   ],
   "source": [
    "# Change working directory to the directory of the csv dataset file.\n",
    "import os\n",
    "# os.chdir('N:/DevMOOC/UdacityMLnd/P3Customer')\n",
    "print os.getcwd()"
   ]
  },
  {
   "cell_type": "code",
   "execution_count": 2,
   "metadata": {
    "collapsed": false
   },
   "outputs": [],
   "source": [
    "# Import libraries: NumPy, pandas, matplotlib.\n",
    "import numpy as np\n",
    "import pandas as pd\n",
    "import matplotlib.pyplot as plt\n",
    "from sklearn.preprocessing import StandardScaler\n",
    "from sklearn.decomposition import PCA\n",
    "from sklearn.decomposition import FastICA\n",
    "\n",
    "# Tell iPython to include plots inline in the notebook.\n",
    "%matplotlib inline\n",
    "\n",
    "# Increase number of columns to be displayed.\n",
    "pd.set_option(\"display.max_columns\", 20)\n",
    "pd.set_option('display.width', 800)"
   ]
  },
  {
   "cell_type": "code",
   "execution_count": 3,
   "metadata": {
    "collapsed": false
   },
   "outputs": [
    {
     "name": "stdout",
     "output_type": "stream",
     "text": [
      "Dataset has 440 rows, 6 columns.\n",
      "\n"
     ]
    }
   ],
   "source": [
    "# Read dataset.\n",
    "data = pd.read_csv(\"wholesale-customers.csv\")\n",
    "print \"Dataset has {} rows, {} columns.\\n\" .format(*data.shape)"
   ]
  },
  {
   "cell_type": "markdown",
   "metadata": {},
   "source": [
    "## Feature Transformation"
   ]
  },
  {
   "cell_type": "markdown",
   "metadata": {},
   "source": [
    "- No scaling of the dataset is necessary in this particular case, since all features are measured in units of dollars.\n",
    "- However, two different types of scaling will be applied to the dataset, so as to undrstand the method and benefits of scaling. \n",
    "- Row scaling will be applied by dividing each row by row-wise total. Information about row-wise totals can be retained in a separate vector. Row scaling is useful because it highlights information about ratios of values by features in each record. \n",
    "- Column scaling will be applied by using StandardScaler. Column scaling is essential when features have different units of measurements."
   ]
  },
  {
   "cell_type": "code",
   "execution_count": 4,
   "metadata": {
    "collapsed": false
   },
   "outputs": [
    {
     "name": "stdout",
     "output_type": "stream",
     "text": [
      "No scaling:\n",
      "   Fresh  Milk  Grocery  Frozen  Detergents_Paper  Delicatessen\n",
      "0  12669  9656     7561     214              2674          1338\n",
      "1   7057  9810     9568    1762              3293          1776\n",
      "2   6353  8808     7684    2405              3516          7844\n",
      "3  13265  1196     4221    6404               507          1788\n",
      "4  22615  5410     7198    3915              1777          5185\n",
      "----------------------------------------------------------------------------------------------------\n",
      "\n",
      "Row scaling:\n",
      "      Fresh      Milk   Grocery    Frozen  Detergents_Paper  Delicatessen\n",
      "0  0.371394  0.283068  0.221652  0.006273          0.078389      0.039224\n",
      "1  0.212139  0.294896  0.287621  0.052967          0.098990      0.053388\n",
      "2  0.173532  0.240590  0.209888  0.065692          0.096039      0.214258\n",
      "3  0.484460  0.043680  0.154158  0.233885          0.018516      0.065301\n",
      "4  0.490564  0.117354  0.156139  0.084924          0.038547      0.112473\n",
      "----------------------------------------------------------------------------------------------------\n",
      "\n",
      "Column scaling:\n",
      "[[ 0.05293319  0.52356777 -0.04111489 -0.58936716 -0.04356873 -0.06633906]\n",
      " [-0.39130197  0.54445767  0.17031835 -0.27013618  0.08640684  0.08915105]\n",
      " [-0.44702926  0.40853771 -0.0281571  -0.13753572  0.13323164  2.24329255]\n",
      " ..., \n",
      " [ 0.20032554  1.31467078  2.34838631 -0.54337975  2.51121768  0.12145607]\n",
      " [-0.13538389 -0.51753572 -0.60251388 -0.41944059 -0.56977032  0.21304614]\n",
      " [-0.72930698 -0.5559243  -0.57322717 -0.62009417 -0.50488752 -0.52286938]]\n",
      "----------------------------------------------------------------------------------------------------\n"
     ]
    }
   ],
   "source": [
    "# Note: 'dataX = data' means dataX is a view of data. 'dataX = data.copy()' means dataX is a copy of data.\n",
    "\n",
    "# No scaling: Copy the original dataset. Do not scale it.\n",
    "dataN = data.copy()\n",
    "print \"No scaling:\"\n",
    "print dataN.head()\n",
    "print \"-\" * 100\n",
    "\n",
    "# Row scaling: Copy the original dataset. Scale it by dividing each row by row-wise total.\n",
    "# (http://stackoverflow.com/questions/26537878/pandas-sum-across-columns-and-divide-each-cell-from-that-value)\n",
    "dataR = data.copy()\n",
    "dataR.loc[:, \"Fresh\":\"Delicatessen\"] = dataR.loc[:, \"Fresh\":\"Delicatessen\"].div(dataR.sum(axis=1), axis=0)\n",
    "print \"\\nRow scaling:\"\n",
    "print dataR.head()\n",
    "print \"-\" * 100\n",
    "\n",
    "# Column scaling: Copy the original dataset. Scale it by using StandardScaler.\n",
    "dataC = StandardScaler().fit_transform(data.copy())\n",
    "print \"\\nColumn scaling:\"\n",
    "print dataC\n",
    "print \"-\" * 100"
   ]
  },
  {
   "cell_type": "markdown",
   "metadata": {},
   "source": [
    "**1)** In this section you will be using PCA and ICA to start to understand the structure of the data. Before doing any computations, what do you think will show up in your computations? List one or two ideas for what might show up as the first PCA dimensions, or what type of vectors will show up as ICA dimensions."
   ]
  },
  {
   "cell_type": "markdown",
   "metadata": {},
   "source": [
    "#### Answer:\n",
    "- The objective of PCA or ICA is to reduce the number of dimensions to be paid attention to while analyzing a dataset for making predictions.\n",
    "- PCA and ICA are based on different assumptions of the pattern of data. PCA assumes that, and hence is applicable if, the data is a mixture of some “signals” and a substrate of Gaussian noise. ICA assumes that, and hence is applicable if, the data is made of non-Gaussian features.\n",
    "- ICA becomes necessary when a given dataset does not adhere to the assuptions for PCA. \n",
    "- PCA and ICA achieve their objective differently. PCA utilizes the first and second moments of the available data. ICA utilizes higher moments.\n",
    "- PCA is a three-step process.\n",
    "- - (1) From the original (given) dataset, PCA creates a square matrix. Number of dimensions of this matrix equals the number of features of the original dataset. Elements of this matrix represent covariance of features. Each diagonal element of this matrix represents variance of a feature, and each off-diagonal element represents covariance of two different features.\n",
    "- - (2) Thereafter, PCA applies a linear transformation to this matrix, and gets another square matrix. Number of dimensions of the new matrix equals the number of features of the original dataset. Elements of the new matrix represent covariance of “transformed features” (that is, features derived by a transformation of the original features). First few diagonal elements have high values; they are ordered in descending order; they correspond to the “signals of importance”. Subsequent diagonal elements have small values; they are ordered in descending order; they correspond to “noise of less importance”. Off-diagonal elements have small values; they correspond to “noise and redundancy”.\n",
    "- - (3) Thereafter, the first few “transformed features” are selected, which correspond to the first few high-valued diagonal elements of the new matrix. These selected “transformed features” are called principal components of the original dataset.\n",
    "- ICA has a more complicated process than PCA.\n",
    "- The principal components derived from PCA are ranked, based on their corresponding variance in the new matrix. These components are generally reproducible, in the sense that two PCA sessions lead to the same set of principal components.. The independent components derived from ICA are not ranked; they just form a set of orthogonal components. These components are reproducible only if random_state (random seed generator) parameter is stated and not changed from session to session.  \n",
    "- Distances of points of the original dataset from the “surfaces” of the principal components are small in size and Gaussian in nature. Distances of points of the original dataset from the “surfaces” of the independent components may not be small in size and Gaussian in nature.\n",
    "- <b><i>With the present dataset of records of sales of 6 items:</i></b>\n",
    "- - PCA will most likely lead to two principal components: edible items and cleaning items.\n",
    "- - ICA will most likely lead to two independent components: perishable items and nonperishable items."
   ]
  },
  {
   "cell_type": "markdown",
   "metadata": {},
   "source": [
    "### PCA"
   ]
  },
  {
   "cell_type": "code",
   "execution_count": 5,
   "metadata": {
    "collapsed": false
   },
   "outputs": [],
   "source": [
    "# Define a function to do PCA and plot its biplot.\n",
    "# (discussions.udacity.com - having-trouble-with-pca-and-ica - jjinking)\n",
    "\n",
    "def fBiplot(dataZ, scaletype, columnnames, whiten=True):\n",
    "    \n",
    "    # Do PCA and transform the data.\n",
    "    pca = PCA(n_components = 2, whiten=True).fit(dataZ)\n",
    "    zpca = pd.DataFrame(pca.transform(dataZ))\n",
    "    zpca.columns = ['PC1', 'PC2']\n",
    "    \n",
    "    # Plot the transformed data.\n",
    "    zplo = zpca.plot(kind='scatter', title = scaletype, x='PC1', y='PC2', figsize=(6, 4), s=0.8)\n",
    "    for i, (pc1, pc2) in enumerate(zip(pca.components_[0], pca.components_[1])):\n",
    "        zplo.arrow(0, 0, pc1, pc2, width=0.001, ec='orange')\n",
    "        zplo.annotate(columnnames[i], (pc1, pc2), size=10)\n",
    "    zplo.set_xlim([np.mean(zpca['PC1'],axis=0)-np.std((zpca['PC1']),axis=0),np.mean(zpca['PC1'],axis=0)+np.std((zpca['PC1']),axis=0)])\n",
    "    zplo.set_ylim([np.mean(zpca['PC2'],axis=0)-np.std((zpca['PC2']),axis=0),np.mean(zpca['PC2'],axis=0)+np.std((zpca['PC2']),axis=0)])\n",
    "    print zplo"
   ]
  },
  {
   "cell_type": "code",
   "execution_count": 6,
   "metadata": {
    "collapsed": false
   },
   "outputs": [
    {
     "name": "stdout",
     "output_type": "stream",
     "text": [
      "Axes(0.125,0.125;0.775x0.775)\n",
      "Axes(0.125,0.125;0.775x0.775)\n",
      "Axes(0.125,0.125;0.775x0.775)\n"
     ]
    },
    {
     "data": {
      "image/png": "[encoded data removed]",
      "text/plain": [
       "<matplotlib.figure.Figure at 0x1d6aa7b8>"
      ]
     },
     "metadata": {},
     "output_type": "display_data"
    },
    {
     "data": {
      "image/png": "[encoded data removed]",
      "text/plain": [
       "<matplotlib.figure.Figure at 0x1d9397f0>"
      ]
     },
     "metadata": {},
     "output_type": "display_data"
    },
    {
     "data": {
      "image/png": "[encoded data removed]",
      "text/plain": [
       "<matplotlib.figure.Figure at 0x1dac0940>"
      ]
     },
     "metadata": {},
     "output_type": "display_data"
    }
   ],
   "source": [
    "# Do PCA and plot biplots with no scaling, column scaling, and row scaling.\n",
    "for (dataZ, scaletype) in [(dataN, \"No scaling\"), (dataR, \"Row scaling\"), (dataC, \"Column scaling\")]:\n",
    "    fBiplot(dataZ, scaletype=scaletype, columnnames=data.columns, whiten=True)"
   ]
  },
  {
   "cell_type": "markdown",
   "metadata": {},
   "source": [
    "- Each individual point in a bivariate plot shows the projection of a record onto the surface made of the first two principal components (PCs).\n",
    "- Each \"feature line\" in a bivariate plot shows a feature's coefficients along the first two PCs, and also shows the first and second PCs' coefficients along the original features."
   ]
  },
  {
   "cell_type": "code",
   "execution_count": 7,
   "metadata": {
    "collapsed": false
   },
   "outputs": [],
   "source": [
    "# Define a function to do PCA and plot its explained variance ratios. (Use n_comp=\"\" for n_compnents=columns_in_dataset.)\n",
    "\n",
    "def fPCA(dataZ, n_comp, scaletype, columnnames, whiten=True):\n",
    "    \n",
    "    # Do PCA.\n",
    "    pca = PCA(n_components = dataZ.shape[1] if n_comp==\"\" else n_comp, whiten=True)\n",
    "    pca.fit_transform(dataZ) if scaletype==\"Column scaling\" else pca.fit(dataZ)\n",
    "    zpci = pca.components_\n",
    "    zpca = pd.DataFrame(zpci)\n",
    "    zpca.columns = columnnames\n",
    "    print scaletype + \": Principal components' dependence on original features:\"\n",
    "    print zpca\n",
    "    \n",
    "    # Compute proportions of original features in PCs.\n",
    "    zpcb = pd.DataFrame(abs(zpci.copy()))\n",
    "    zpcb.columns = columnnames\n",
    "    zpcb.loc[:, \"Fresh\":\"Delicatessen\"] = zpcb.loc[:, \"Fresh\":\"Delicatessen\"].div(zpcb.sum(axis=1), axis=0)\n",
    "    zpcb['MainItem'] = zpcb.idxmax(axis=1)\n",
    "    print scaletype + \": Principal components' relative proportions:\"\n",
    "    print zpcb\n",
    "    \n",
    "    # Compute explained variance ratios (the amount of variance in the data contained in each dimension).\n",
    "    zevr1 = pd.DataFrame(pca.explained_variance_ratio_)\n",
    "    zevr2 = pd.DataFrame(pca.explained_variance_ratio_.cumsum())\n",
    "    zevr = pd.concat([zevr1, zevr2], axis=1)\n",
    "    zevr.columns = [\"EVR\", \"cumEVR\"]\n",
    "    print scaletype + \": PCA explained variance ratios and their cumulatives:\"\n",
    "    print zevr\n",
    "    \n",
    "    # Compute number of significant principal components.\n",
    "    print scaletype + \": Number of principal components needed to cover 95% variance:\"\n",
    "    print len(zevr.query('cumEVR < 0.95'))\n",
    "    \n",
    "    # Plot explained variance ratios and cumulative EVR versus PC numbers.\n",
    "    plt.figure()\n",
    "    zcom = np.arange(6)\n",
    "    plt.bar(zcom, zevr['EVR'], width=0.3, color='r')\n",
    "    plt.ylabel('Explained variance ratios', color='r')\n",
    "    plt.xlabel('PC number')\n",
    "    plt.ylim(0.0, 1.0)\n",
    "    zaxe = plt.twinx()\n",
    "    zaxe.plot(zcom, zevr['cumEVR'], color='b')\n",
    "    zaxe.set_ylabel('Cumulative explained variance', color='b')\n",
    "    zaxe.set_ylim(0.0, 1.0)\n",
    "    plt.show()\n",
    "    print \"-\" * 100"
   ]
  },
  {
   "cell_type": "code",
   "execution_count": 8,
   "metadata": {
    "collapsed": false
   },
   "outputs": [
    {
     "name": "stdout",
     "output_type": "stream",
     "text": [
      "No scaling: Principal components' dependence on original features:\n",
      "      Fresh      Milk   Grocery    Frozen  Detergents_Paper  Delicatessen\n",
      "0 -0.976537 -0.121184 -0.061540 -0.152365          0.007054     -0.068105\n",
      "1 -0.110614  0.515802  0.764606 -0.018723          0.365351      0.057079\n",
      "2 -0.178557  0.509887 -0.275781  0.714200         -0.204410      0.283217\n",
      "3 -0.041876 -0.645640  0.375460  0.646292          0.149380     -0.020396\n",
      "4  0.015986  0.203236 -0.160292  0.220186          0.207930     -0.917077\n",
      "5 -0.015763  0.033492  0.410939 -0.013289         -0.871284     -0.265417\n",
      "No scaling: Principal components' relative proportions:\n",
      "      Fresh      Milk   Grocery    Frozen  Detergents_Paper  Delicatessen          MainItem\n",
      "0  0.704173  0.087385  0.044376  0.109869          0.005087      0.049110             Fresh\n",
      "1  0.060373  0.281524  0.417322  0.010219          0.199408      0.031154           Grocery\n",
      "2  0.082434  0.235399  0.127320  0.329724          0.094370      0.130753            Frozen\n",
      "3  0.022286  0.343600  0.199814  0.343947          0.079498      0.010854            Frozen\n",
      "4  0.009269  0.117838  0.092938  0.127666          0.120560      0.531729      Delicatessen\n",
      "5  0.009790  0.020800  0.255212  0.008253          0.541108      0.164836  Detergents_Paper\n",
      "No scaling: PCA explained variance ratios and their cumulatives:\n",
      "        EVR    cumEVR\n",
      "0  0.459614  0.459614\n",
      "1  0.405172  0.864786\n",
      "2  0.070030  0.934816\n",
      "3  0.044023  0.978839\n",
      "4  0.015022  0.993862\n",
      "5  0.006138  1.000000\n",
      "No scaling: Number of principal components needed to cover 95% variance:\n",
      "3\n"
     ]
    },
    {
     "data": {
      "image/png": "[encoded data removed]",
      "text/plain": [
       "<matplotlib.figure.Figure at 0x1d7dcf98>"
      ]
     },
     "metadata": {},
     "output_type": "display_data"
    },
    {
     "name": "stdout",
     "output_type": "stream",
     "text": [
      "----------------------------------------------------------------------------------------------------\n",
      "Row scaling: Principal components' dependence on original features:\n",
      "      Fresh      Milk   Grocery    Frozen  Detergents_Paper  Delicatessen\n",
      "0  0.832087 -0.270426 -0.434339  0.083268         -0.196794     -0.013796\n",
      "1  0.328592  0.030371  0.363239 -0.847180          0.192180     -0.067202\n",
      "2 -0.009938  0.811212 -0.483957 -0.236009         -0.196564      0.115256\n",
      "3  0.069763  0.058480  0.478772  0.025509         -0.846260      0.213737\n",
      "4 -0.167412 -0.312723 -0.222045 -0.228770          0.053648      0.877302\n",
      "5  0.408248  0.408248  0.408248  0.408248          0.408248      0.408248\n",
      "Row scaling: Principal components' relative proportions:\n",
      "      Fresh      Milk   Grocery    Frozen  Detergents_Paper  Delicatessen          MainItem\n",
      "0  0.454516  0.147717  0.237252  0.045484          0.107496      0.007536             Fresh\n",
      "1  0.179680  0.016607  0.198625  0.463253          0.105087      0.036747            Frozen\n",
      "2  0.005363  0.437798  0.261184  0.127370          0.106083      0.062202              Milk\n",
      "3  0.041218  0.034552  0.282875  0.015072          0.500000      0.126283  Detergents_Paper\n",
      "4  0.089915  0.167959  0.119257  0.122869          0.028814      0.471186      Delicatessen\n",
      "5  0.166667  0.166667  0.166667  0.166667          0.166667      0.166667            Frozen\n",
      "Row scaling: PCA explained variance ratios and their cumulatives:\n",
      "            EVR    cumEVR\n",
      "0  7.378431e-01  0.737843\n",
      "1  1.375216e-01  0.875365\n",
      "2  8.110232e-02  0.956467\n",
      "3  2.632515e-02  0.982792\n",
      "4  1.720789e-02  1.000000\n",
      "5  1.161752e-32  1.000000\n",
      "Row scaling: Number of principal components needed to cover 95% variance:\n",
      "2\n"
     ]
    },
    {
     "data": {
      "image/png": "[encoded data removed]",
      "text/plain": [
       "<matplotlib.figure.Figure at 0x1dc57e10>"
      ]
     },
     "metadata": {},
     "output_type": "display_data"
    },
    {
     "name": "stdout",
     "output_type": "stream",
     "text": [
      "----------------------------------------------------------------------------------------------------\n",
      "Column scaling: Principal components' dependence on original features:\n",
      "      Fresh      Milk   Grocery    Frozen  Detergents_Paper  Delicatessen\n",
      "0 -0.042884 -0.545118 -0.579256 -0.051189         -0.548640     -0.248682\n",
      "1 -0.527932 -0.083168  0.146088 -0.611278          0.255233     -0.504207\n",
      "2 -0.812257  0.060388 -0.108384  0.178386         -0.136192      0.523904\n",
      "3 -0.236686 -0.087190  0.105987  0.768683          0.171744     -0.552065\n",
      "4  0.048683 -0.826579  0.314999  0.027932          0.339640      0.314701\n",
      "5  0.036025  0.038040 -0.721745  0.015637          0.685894      0.075134\n",
      "Column scaling: Principal components' relative proportions:\n",
      "      Fresh      Milk   Grocery    Frozen  Detergents_Paper  Delicatessen MainItem\n",
      "0  0.021274  0.270427  0.287362  0.025394          0.272174      0.123368  Grocery\n",
      "1  0.248099  0.039084  0.068653  0.287267          0.119946      0.236950   Frozen\n",
      "2  0.446415  0.033189  0.059568  0.098041          0.074851      0.287937    Fresh\n",
      "3  0.123123  0.045356  0.055134  0.399865          0.089340      0.287182   Frozen\n",
      "4  0.025998  0.441423  0.168221  0.014917          0.181380      0.168061     Milk\n",
      "5  0.022910  0.024191  0.458986  0.009944          0.436187      0.047781  Grocery\n",
      "Column scaling: PCA explained variance ratios and their cumulatives:\n",
      "        EVR    cumEVR\n",
      "0  0.440829  0.440829\n",
      "1  0.283764  0.724593\n",
      "2  0.123344  0.847937\n",
      "3  0.093955  0.941892\n",
      "4  0.047613  0.989505\n",
      "5  0.010495  1.000000\n",
      "Column scaling: Number of principal components needed to cover 95% variance:\n",
      "4\n"
     ]
    },
    {
     "data": {
      "image/png": "[encoded data removed]",
      "text/plain": [
       "<matplotlib.figure.Figure at 0x1fd985f8>"
      ]
     },
     "metadata": {},
     "output_type": "display_data"
    },
    {
     "name": "stdout",
     "output_type": "stream",
     "text": [
      "----------------------------------------------------------------------------------------------------\n"
     ]
    }
   ],
   "source": [
    "# Do PCA and plot explained variance ratios with no scaling, column scaling, and row scaling.\n",
    "for (dataZ, scaletype) in [(dataN, \"No scaling\"), (dataR, \"Row scaling\"), (dataC, \"Column scaling\")]:\n",
    "    fPCA(dataZ, n_comp=\"\", scaletype=scaletype, columnnames=data.columns, whiten=True)"
   ]
  },
  {
   "cell_type": "markdown",
   "metadata": {},
   "source": [
    "**2)** How quickly does the variance drop off by dimension? If you were to use PCA on this dataset, how many dimensions would you choose for your analysis? Why?"
   ]
  },
  {
   "cell_type": "markdown",
   "metadata": {
    "collapsed": true
   },
   "source": [
    "#### Answer:\n",
    "- The variance drops off almost exponentially with dimensions (that is, number of principal components).\n",
    "- In order to cover 95% variance:\n",
    "- - 3 principal components are needed if no scaling is applied.\n",
    "- - 2 principal components plus 1 vector of row-wise totals are needed if row scaling is applied.\n",
    "- - 4 principal components are needed if column scaling is applied.\n",
    "- Regarding scaling method, \"no scaling\" is the best option in this case, because:\n",
    "- - Row scaling's apparent advantage [of 1 less PC] is lost after considering the need of a vector of row-wise totals.\n",
    "- - Column scaling needs 2 more principal components than \"no scaling\", for covering 95% variance.\n",
    "- Thus, no scaling is the best option in this case.\n",
    "- I would choose \"no scaling\" and the first 3 principal components, because:\n",
    "- - The first 3 principal components cover more than 95% variance and reprsent a \"signal\".\n",
    "- - The remaining principal components cover less than 5% variance and represent a \"noise\"."
   ]
  },
  {
   "cell_type": "markdown",
   "metadata": {},
   "source": [
    "**3)** What do the dimensions seem to represent? How can you use this information?"
   ]
  },
  {
   "cell_type": "markdown",
   "metadata": {
    "collapsed": true
   },
   "source": [
    "#### Answer:\n",
    "- Each dimension here is a principal component (PC), which is a surface in the 6-dimensional space made of the 6 sale items (Fresh, Milk, Grocery, Frozen, Detergents_Paper, and Delicatessen) as coordinates.\n",
    "- The first two tables (\"No scaling: Principal components' ...\") imply that:\n",
    "- - The first PC is primarily affected by Fresh. It has 70% variance (0.977) due to Fresh.\n",
    "- - The second PC is primarily affected by Grocery. It has 42% variance (0.765) due to Grocery.\n",
    "- - The third PC is primarily affected by Frozen. It has 33% variance (0.714) due to Frozen.\n",
    "- An understanding of the significant (first 3) principal components and their relationships to the sale items helps us understand the line of business and the inter-connection of sale items. This understanding helps us make wise decisions about purchasing and stocking the inventory of the sale items."
   ]
  },
  {
   "cell_type": "markdown",
   "metadata": {},
   "source": [
    "### ICA"
   ]
  },
  {
   "cell_type": "code",
   "execution_count": 9,
   "metadata": {
    "collapsed": false
   },
   "outputs": [],
   "source": [
    "# Define a function to do ICA. (Use n_comp=\"\" for n_compnents=columns_in_dataset.)\n",
    "\n",
    "def fICA(dataZ, n_comp, scaletype, columnnames, whiten=True):\n",
    "    \n",
    "    # Do ICA.\n",
    "    ica = FastICA(n_components = dataZ.shape[1] if n_comp==\"\" else n_comp,\n",
    "                  whiten=True, max_iter=100, tol=0.01, w_init=None, random_state=1)\n",
    "    ica.fit_transform(dataZ) if scaletype==\"Column scaling\" else ica.fit(dataZ)\n",
    "    zici = ica.components_\n",
    "    zica = pd.DataFrame(zici)\n",
    "    zica.columns = columnnames\n",
    "    print scaletype + \": Independent components' dependence on original features:\"\n",
    "    print zica\n",
    "    \n",
    "    # Compute proportions of original features.\n",
    "    zicb = pd.DataFrame(abs(zici.copy()))\n",
    "    zicb.columns = columnnames\n",
    "    zicb.loc[:, \"Fresh\":\"Delicatessen\"] = zicb.loc[:, \"Fresh\":\"Delicatessen\"].div(zicb.sum(axis=1), axis=0)\n",
    "    zicb['MainItem'] = zicb.idxmax(axis=1)\n",
    "    print scaletype + \": Independent components' relative proportions:\"\n",
    "    print zicb\n",
    "    print \"-\" * 100"
   ]
  },
  {
   "cell_type": "code",
   "execution_count": 11,
   "metadata": {
    "collapsed": false
   },
   "outputs": [
    {
     "name": "stdout",
     "output_type": "stream",
     "text": [
      "No scaling: Independent components' dependence on original features:\n",
      "          Fresh          Milk       Grocery        Frozen  Detergents_Paper  Delicatessen\n",
      "0  3.984049e-06 -9.166665e-07 -2.845852e-06 -1.179486e-06      5.785633e-06  3.670171e-07\n",
      "1  4.969220e-07  1.424886e-06 -2.369673e-07  6.148315e-07      9.026310e-06 -1.757513e-06\n",
      "2 -1.309849e-07  9.620541e-06 -8.567263e-06 -2.953770e-07      4.805726e-06 -4.883701e-06\n",
      "3  4.444801e-07  1.172351e-07  9.771053e-07  5.159959e-07     -9.924499e-07 -1.817977e-05\n",
      "4  3.694469e-07  3.336351e-06  1.177350e-05 -1.621900e-06     -2.593549e-05 -6.498195e-06\n",
      "5  6.267419e-07  2.136832e-07 -8.425052e-07 -1.107504e-05      6.307690e-07  5.975748e-06\n",
      "No scaling: Independent components' relative proportions:\n",
      "      Fresh      Milk   Grocery    Frozen  Detergents_Paper  Delicatessen          MainItem\n",
      "0  0.264217  0.060792  0.188733  0.078222          0.383696      0.024340  Detergents_Paper\n",
      "1  0.036653  0.105100  0.017479  0.045350          0.665783      0.129635  Detergents_Paper\n",
      "2  0.004628  0.339905  0.302692  0.010436          0.169792      0.172547              Milk\n",
      "3  0.020939  0.005523  0.046031  0.024308          0.046754      0.856444      Delicatessen\n",
      "4  0.007458  0.067354  0.237681  0.032743          0.523580      0.131184  Detergents_Paper\n",
      "5  0.032366  0.011035  0.043508  0.571925          0.032573      0.308593            Frozen\n",
      "----------------------------------------------------------------------------------------------------\n",
      "Row scaling: Independent components' dependence on original features:\n",
      "          Fresh          Milk       Grocery        Frozen  Detergents_Paper  Delicatessen\n",
      "0  2.177357e+14  2.177357e+14  2.177357e+14  2.177357e+14      2.177357e+14  2.177357e+14\n",
      "1 -2.882323e+14 -2.882323e+14 -2.882323e+14 -2.882323e+14     -2.882323e+14 -2.882323e+14\n",
      "2  2.074193e+14  2.074193e+14  2.074193e+14  2.074193e+14      2.074193e+14  2.074193e+14\n",
      "3  4.422031e+14  4.422031e+14  4.422031e+14  4.422031e+14      4.422031e+14  4.422031e+14\n",
      "4 -1.380722e+14 -1.380722e+14 -1.380722e+14 -1.380722e+14     -1.380722e+14 -1.380722e+14\n",
      "5  1.380272e+13  1.380272e+13  1.380272e+13  1.380272e+13      1.380272e+13  1.380272e+13\n",
      "Row scaling: Independent components' relative proportions:\n",
      "      Fresh      Milk   Grocery    Frozen  Detergents_Paper  Delicatessen          MainItem\n",
      "0  0.166667  0.166667  0.166667  0.166667          0.166667      0.166667  Detergents_Paper\n",
      "1  0.166667  0.166667  0.166667  0.166667          0.166667      0.166667            Frozen\n",
      "2  0.166667  0.166667  0.166667  0.166667          0.166667      0.166667            Frozen\n",
      "3  0.166667  0.166667  0.166667  0.166667          0.166667      0.166667            Frozen\n",
      "4  0.166667  0.166667  0.166667  0.166667          0.166667      0.166667  Detergents_Paper\n",
      "5  0.166667  0.166667  0.166667  0.166667          0.166667      0.166667              Milk\n",
      "----------------------------------------------------------------------------------------------------\n",
      "Column scaling: Independent components' dependence on original features:\n",
      "      Fresh      Milk   Grocery    Frozen  Detergents_Paper  Delicatessen\n",
      "0  0.004043 -0.006578 -0.131815  0.006210          0.128202      0.014752\n",
      "1 -0.049907  0.006783  0.001712  0.002079         -0.006499      0.004042\n",
      "2 -0.012144 -0.001077  0.008697  0.054088         -0.003911     -0.017060\n",
      "3  0.001929  0.074503 -0.047782 -0.002257          0.003553     -0.020396\n",
      "4  0.004312 -0.000999  0.008423  0.002119         -0.005163     -0.050126\n",
      "5  0.003796 -0.012328  0.013431  0.004237          0.043426     -0.001467\n",
      "Column scaling: Independent components' relative proportions:\n",
      "      Fresh      Milk   Grocery    Frozen  Detergents_Paper  Delicatessen          MainItem\n",
      "0  0.013864  0.022560  0.452040  0.021295          0.439651      0.050590           Grocery\n",
      "1  0.702701  0.095500  0.024107  0.029271          0.091505      0.056916             Fresh\n",
      "2  0.125227  0.011107  0.089682  0.557735          0.040331      0.175917            Frozen\n",
      "3  0.012823  0.495302  0.317661  0.015003          0.023619      0.135592              Milk\n",
      "4  0.060615  0.014048  0.118390  0.029787          0.072577      0.704584      Delicatessen\n",
      "5  0.048240  0.156675  0.170697  0.053844          0.551899      0.018645  Detergents_Paper\n",
      "----------------------------------------------------------------------------------------------------\n"
     ]
    }
   ],
   "source": [
    "# Do ICA with no scaling, column scaling, and row scaling.\n",
    "for (dataZ, scaletype) in [(dataN, \"No scaling\"), (dataR, \"Row scaling\"), (dataC, \"Column scaling\")]:\n",
    "    fICA(dataZ, n_comp=6, scaletype=scaletype, columnnames=data.columns, whiten=True)"
   ]
  },
  {
   "cell_type": "markdown",
   "metadata": {},
   "source": [
    "**4)** For each vector in the ICA decomposition, write a sentence or two explaining what sort of object or property it corresponds to. What could these components be used for?"
   ]
  },
  {
   "cell_type": "markdown",
   "metadata": {
    "collapsed": true
   },
   "source": [
    "#### Answer:\n",
    "- In the set of independent components (ICs) with \"row scaling\", each IC is composed of equal proportions of original features, and thus, all ICs have the same direction in the space of original features. These ICs are statistically not independednt as expected from ICA. This implies that ICA fails in case of \"row scaling\" or when total of values of all features is same for all records of the dataset. We should, therefore, refrain from \"row scaling\" while doing ICA.\n",
    "- The set of ICs with \"no scaling\" is different from the set of ICs with \"column scaling\". This implies that it is possible to have multiple sets of ICs. \n",
    "- In the set of ICs with \"no scaling\":\n",
    "- - The first IC is composed mainly of Detergents_Paper. It consists of: 26% Fresh, 6% Milk, 19% Grocery, 8% Frozen, 38% Detergents_Paper, and 2% Delicatessen.\n",
    "- - The second IC is composed mainly of Detergents_Paper. It consists of: 4% Fresh, 11% Milk, 2% Grocery, 5% Frozen, 67% Detergents_Paper, and 13% Delicatessen.\n",
    "- - The third IC is composed mainly of Milk. It consists of: 0% Fresh, 34% Milk, 30% Grocery, 1% Frozen, 17% Detergents_Paper, and 17% Delicatessen.\n",
    "- - The fourth IC is composed mainly of Delicatessen. It consists of: 2% Fresh, 0% Milk, 5% Grocery, 2% Frozen, 5% Detergents_Paper, and 87% Delicatessen.\n",
    "- - The fifth IC is composed mainly of Detergents_Paper. It consists of: 1% Fresh, 7% Milk, 24% Grocery, 3% Frozen, 52% Detergents_Paper, and 13% Delicatessen.\n",
    "- - The sixth IC is composed mainly of Frozen. It consists of: 3% Fresh, 1% Milk, 4% Grocery, 57% Frozen, 3% Detergents_Paper, and 31% Delicatessen.\n",
    "- The components derived from this ICA can be used for discovering customer groups of statistically independent types. For example, purchases by household-type customers are quite different from purchases by event-organizer-type customers. "
   ]
  },
  {
   "cell_type": "markdown",
   "metadata": {},
   "source": [
    "## Clustering\n",
    "\n",
    "In this section you will choose either K Means clustering or Gaussian Mixed Models clustering, which implements expectation-maximization. Then you will sample elements from the clusters to understand their significance."
   ]
  },
  {
   "cell_type": "markdown",
   "metadata": {},
   "source": [
    "### Choose a Cluster Type\n",
    "\n",
    "**5)** What are the advantages of using K Means clustering or Gaussian Mixture Models?"
   ]
  },
  {
   "cell_type": "markdown",
   "metadata": {},
   "source": [
    "#### Answer:\n",
    "\n",
    "- k-means (KMeans) and Expectation Maximization algorithms are special cases of Gaussian Mixture Model (GMM) algorithms.\n",
    "- GMM needs many parameters for tuning. KMeans needs only k value for tuning.\n",
    "- GMM is the fastest method for learning mixture models. KMeans works faster than GMM for certain specific applications.\n",
    "- GMM is unbiased; it maximizes only the likelihood, and so, will not bias the means towards zero, or bias the cluster sizes to have specific structures that might or might not apply. KMeans is also unbiased, where it is applicable.\n",
    "- GMM is difficult to implement due to several parameters for tuning. KMeans is easy to implement and apply even on large datasets.\n",
    "- GMM is scaleable and can be applicable for a variety of applications. KMeans is not so much scaleable as GMM.\n",
    "- Not all GMM works can be converted into KMeans works. All KMeans works can be generalized into GMM works.\n",
    "- KMeans method can be used as a preprocessing step (to find a starting configuration) for other algorithms.\n",
    "- KMeans clustering method has become popular for, and provides starting templates for:\n",
    "- - Reduction of colors: Reduce the number of colors required to show an image, while preserving the overall appearance quality. This is done by performing a pixel-wise Vector Quantization of the image.\n",
    "- - Topic classification: Cluster documents by topics using a bag-of-words approach. This is done by using a scipy.sparse matrix to store the features instead of standard numpy arrays."
   ]
  },
  {
   "cell_type": "markdown",
   "metadata": {},
   "source": [
    "**6)** Below is some starter code to help you visualize some cluster data. The visualization is based on [this demo](http://scikit-learn.org/stable/auto_examples/cluster/plot_kmeans_digits.html) from the sklearn documentation."
   ]
  },
  {
   "cell_type": "code",
   "execution_count": 12,
   "metadata": {
    "collapsed": true
   },
   "outputs": [],
   "source": [
    "# Import clustering modules.\n",
    "from sklearn.cluster import KMeans\n",
    "from sklearn.mixture import GMM"
   ]
  },
  {
   "cell_type": "code",
   "execution_count": 13,
   "metadata": {
    "collapsed": false
   },
   "outputs": [
    {
     "name": "stdout",
     "output_type": "stream",
     "text": [
      "[[-0.05066239  0.13161505]\n",
      " [ 0.34502287  0.33556674]\n",
      " [ 0.37738285  0.21406486]\n",
      " [-0.07718708 -0.5212911 ]\n",
      " [-0.83067886 -0.17928035]\n",
      " [ 0.2155776  -0.07967954]\n",
      " [ 0.05576966 -0.16710073]\n",
      " [ 0.34874672  0.11866355]\n",
      " [ 0.52313722 -0.18311407]\n",
      " [ 0.37595155  1.11903068]]\n"
     ]
    }
   ],
   "source": [
    "# Reduce the data to two dimensions using PCA to capture variation. Print upto 10 elements.\n",
    "reduced_data = PCA(n_components=2, whiten=True).fit_transform(dataN)\n",
    "print reduced_data[:10]"
   ]
  },
  {
   "cell_type": "code",
   "execution_count": 14,
   "metadata": {
    "collapsed": false
   },
   "outputs": [
    {
     "name": "stdout",
     "output_type": "stream",
     "text": [
      "KMeans(copy_x=True, init='k-means++', max_iter=300, n_clusters=2, n_init=10,\n",
      "    n_jobs=1, precompute_distances='auto', random_state=None, tol=0.0001,\n",
      "    verbose=0)\n",
      "KMeans(copy_x=True, init='k-means++', max_iter=300, n_clusters=3, n_init=10,\n",
      "    n_jobs=1, precompute_distances='auto', random_state=None, tol=0.0001,\n",
      "    verbose=0)\n",
      "KMeans(copy_x=True, init='k-means++', max_iter=300, n_clusters=4, n_init=10,\n",
      "    n_jobs=1, precompute_distances='auto', random_state=None, tol=0.0001,\n",
      "    verbose=0)\n",
      "GMM(covariance_type='diag', init_params='wmc', min_covar=0.001,\n",
      "  n_components=2, n_init=1, n_iter=100, params='wmc', random_state=None,\n",
      "  thresh=None, tol=0.001, verbose=0)\n",
      "GMM(covariance_type='diag', init_params='wmc', min_covar=0.001,\n",
      "  n_components=3, n_init=1, n_iter=100, params='wmc', random_state=None,\n",
      "  thresh=None, tol=0.001, verbose=0)\n",
      "GMM(covariance_type='diag', init_params='wmc', min_covar=0.001,\n",
      "  n_components=4, n_init=1, n_iter=100, params='wmc', random_state=None,\n",
      "  thresh=None, tol=0.001, verbose=0)\n"
     ]
    }
   ],
   "source": [
    "# Implement your clustering algorithm here, and fit it to the reduced data for visualization.\n",
    "# The visualizer below assumes your clustering object is named 'clusters'.\n",
    "\n",
    "# Define KMeans and GMM algorithms with different cluster-sizes.\n",
    "clusterz = []\n",
    "clusterz.append( KMeans(n_clusters=2, init='k-means++', n_init=10).fit(reduced_data) )\n",
    "clusterz.append( KMeans(n_clusters=3, init='k-means++', n_init=10).fit(reduced_data) )\n",
    "clusterz.append( KMeans(n_clusters=4, init='k-means++', n_init=10).fit(reduced_data) )\n",
    "clusterz.append( GMM(n_components=2, covariance_type='diag', n_init=1).fit(reduced_data) )\n",
    "clusterz.append( GMM(n_components=3, covariance_type='diag', n_init=1).fit(reduced_data) )\n",
    "clusterz.append( GMM(n_components=4, covariance_type='diag', n_init=1).fit(reduced_data) )\n",
    "# params='wmc',init_params='wmc',random_state=None,thresh=None,tol=0.001,min_covar=0.001,n_iter=100,verbose=0\n",
    "\n",
    "# Print thse alogorithms.\n",
    "for i in range(0,6):\n",
    "    print clusterz[i]"
   ]
  },
  {
   "cell_type": "code",
   "execution_count": 15,
   "metadata": {
    "collapsed": false
   },
   "outputs": [],
   "source": [
    "# Create the decision boundary by building a mesh grid to populate a graph.\n",
    "x_min, x_max = reduced_data[:, 0].min() - 1, reduced_data[:, 0].max() + 1\n",
    "y_min, y_max = reduced_data[:, 1].min() - 1, reduced_data[:, 1].max() + 1\n",
    "hx = (x_max-x_min)/1000.\n",
    "hy = (y_max-y_min)/1000.\n",
    "xx, yy = np.meshgrid(np.arange(x_min, x_max, hx), np.arange(y_min, y_max, hy))"
   ]
  },
  {
   "cell_type": "code",
   "execution_count": 16,
   "metadata": {
    "collapsed": false
   },
   "outputs": [],
   "source": [
    "# Obtain labels for each point in mesh. Use last trained model.\n",
    "Zy = []\n",
    "for i in range(0,6):\n",
    "    Zy.append( clusterz[i].predict(np.c_[xx.ravel(), yy.ravel()]) )"
   ]
  },
  {
   "cell_type": "code",
   "execution_count": 17,
   "metadata": {
    "collapsed": false
   },
   "outputs": [
    {
     "name": "stdout",
     "output_type": "stream",
     "text": [
      "Centroids: Cluster centers for KMeans: 2 clusters:\n",
      "[[-1.8774321   0.10112193]\n",
      " [ 0.32542156 -0.0175278 ]]\n",
      "Centroids: Cluster centers for KMeans: 3 clusters:\n",
      "[[ 0.32398252 -0.25421161]\n",
      " [-1.86890029 -0.36902956]\n",
      " [ 0.10439573  2.12063212]]\n",
      "Centroids: Cluster centers for KMeans: 4 clusters:\n",
      "[[ 0.27606834 -0.40980069]\n",
      " [-1.88774966 -0.36229652]\n",
      " [-1.13306214  5.12306113]\n",
      " [ 0.44511156  1.05103642]]\n",
      "Centroids: Cluster means for GMM: 2 clusters:\n",
      "[[ 0.25680368 -0.24813473]\n",
      " [-0.85106495  0.82233544]]\n",
      "Centroids: Cluster means for GMM: 3 clusters:\n",
      "[[ 0.55039413  0.37036156]\n",
      " [-1.41677388  0.86006388]\n",
      " [ 0.02064228 -0.53090193]]\n",
      "Centroids: Cluster means for GMM: 4 clusters:\n",
      "[[ 0.17955642 -0.55240277]\n",
      " [ 0.55835485  0.46008322]\n",
      " [-1.22239264 -0.27631773]\n",
      " [-0.74454425  2.88256246]]\n"
     ]
    }
   ],
   "source": [
    "# Compute and print centroids: centers for KMeans and means for GMM.\n",
    "centroidz = []\n",
    "for i in [0,1,2]:\n",
    "    centroidz.append( clusterz[i].cluster_centers_ )\n",
    "    print \"Centroids: Cluster centers for KMeans: \" + str(i+2) + \" clusters:\"\n",
    "    print centroidz[i]\n",
    "for i in [3,4,5]:    \n",
    "    centroidz.append( clusterz[i].means_ )\n",
    "    print \"Centroids: Cluster means for GMM: \" + str(i-1) + \" clusters:\"\n",
    "    print centroidz[i]"
   ]
  },
  {
   "cell_type": "code",
   "execution_count": 18,
   "metadata": {
    "collapsed": false
   },
   "outputs": [
    {
     "data": {
      "image/png": "[encoded data removed]",
      "text/plain": [
       "<matplotlib.figure.Figure at 0x1fb028d0>"
      ]
     },
     "metadata": {},
     "output_type": "display_data"
    },
    {
     "data": {
      "image/png": "[encoded data removed]",
      "text/plain": [
       "<matplotlib.figure.Figure at 0x1fb15198>"
      ]
     },
     "metadata": {},
     "output_type": "display_data"
    },
    {
     "data": {
      "image/png": "[encoded data removed]",
      "text/plain": [
       "<matplotlib.figure.Figure at 0x1de05f28>"
      ]
     },
     "metadata": {},
     "output_type": "display_data"
    },
    {
     "data": {
      "image/png": "[encoded data removed]",
      "text/plain": [
       "<matplotlib.figure.Figure at 0x1d9a55f8>"
      ]
     },
     "metadata": {},
     "output_type": "display_data"
    },
    {
     "data": {
      "image/png": "[encoded data removed]",
      "text/plain": [
       "<matplotlib.figure.Figure at 0x1de10550>"
      ]
     },
     "metadata": {},
     "output_type": "display_data"
    },
    {
     "data": {
      "image/png": "[encoded data removed]",
      "text/plain": [
       "<matplotlib.figure.Figure at 0x1dbe2128>"
      ]
     },
     "metadata": {},
     "output_type": "display_data"
    }
   ],
   "source": [
    "# Define labels for plots.\n",
    "labelz = ['KMeans with 2 clusters','KMeans with 3 clusters','KMeans with 4 clusters',\n",
    "          'GMM with 2 clusters','GMM with 3 clusters','GMM with 4 clusters']\n",
    "\n",
    "# Plot the KMeans and GMM results.\n",
    "for i in range(0,6):\n",
    "    Zzx = Zy[i].reshape(xx.shape)\n",
    "    plt.figure(1)\n",
    "    plt.clf()\n",
    "    plt.imshow(Zzx, interpolation='nearest', extent=(xx.min(), xx.max(), yy.min(), yy.max()),\n",
    "               cmap=plt.cm.Paired, aspect='auto', origin='lower')\n",
    "    plt.plot(reduced_data[:, 0], reduced_data[:, 1], 'k.', markersize=2)\n",
    "    plt.scatter(centroidz[i][:, 0], centroidz[i][:, 1], marker='x', s=169, linewidths=3, color='w', zorder=10)\n",
    "    plt.title(labelz[i] + '\\nfor dataset reduced to 2 principal components')\n",
    "    plt.xlim(x_min, x_max)\n",
    "    plt.ylim(y_min, y_max)\n",
    "    plt.xticks(())\n",
    "    plt.yticks(())\n",
    "    plt.show()"
   ]
  },
  {
   "cell_type": "code",
   "execution_count": 19,
   "metadata": {
    "collapsed": false
   },
   "outputs": [
    {
     "name": "stdout",
     "output_type": "stream",
     "text": [
      "                    Method Cluster#  Fresh   Milk  Grocery  Frozen  Detergents_Paper  Delicatessen\n",
      "0   KMeans with 2 clusters        1  35388   9343    10365    6719              3156          3234\n",
      "1   KMeans with 2 clusters        2   7946   5181     7532    2439              2833          1228\n",
      "2   KMeans with 3 clusters        1   8279   3712     5353    2495              1791          1066\n",
      "3   KMeans with 3 clusters        2  35908   6409     6027    6808              1088          2904\n",
      "4   KMeans with 3 clusters        3   7866  18810    27401    2389             12224          2891\n",
      "5   KMeans with 4 clusters        1   9087   2820     3958    2624              1102          1001\n",
      "6   KMeans with 4 clusters        2  36135   6480     6104    6844              1116          2925\n",
      "7   KMeans with 4 clusters        3  19370  39391    56034    4131             25326          6037\n",
      "8   KMeans with 4 clusters        4   5022  11634    17280    1964              7547          1858\n",
      "9      GMM with 2 clusters        1   9113   3855     5462    2625              1812          1129\n",
      "10     GMM with 2 clusters        2  21567  12229    16197    4550              6423          2833\n",
      "11     GMM with 3 clusters        1   4610   7241    10928    1912              4561          1298\n",
      "12     GMM with 3 clusters        2  28605  13343    16991    5647              6538          3354\n",
      "13     GMM with 3 clusters        3  12449   2465     3044    3151               546          1141\n",
      "14     GMM with 4 clusters        1  10486   2084     2721    2845               466           988\n",
      "15     GMM with 4 clusters        2   4391   7786    11748    1876              4956          1353\n",
      "16     GMM with 4 clusters        3  27684   5979     6371    5523              1554          2403\n",
      "17     GMM with 4 clusters        4  17487  24865    35090    3877             15500          4157\n"
     ]
    }
   ],
   "source": [
    "# Interpret the centroids in terms of original features.\n",
    "znum = [2,3,4,2,3,4]\n",
    "zlab = []\n",
    "zval = []\n",
    "for i in range(0,6):\n",
    "    for j in range(0,znum[i]):\n",
    "        zadd = [labelz[i], str(j+1)]\n",
    "        zlab.append(zadd)\n",
    "        zadd = map(int, PCA(n_components=2, whiten=True).fit(dataN).inverse_transform(centroidz[i][j]))\n",
    "        zval.append(zadd)\n",
    "        \n",
    "zlab = pd.DataFrame(zlab)\n",
    "zlab.columns = [\"Method\",\"Cluster#\"]\n",
    "zval = pd.DataFrame(zval)\n",
    "zval.columns = data.columns\n",
    "zout = pd.merge(zlab, zval, right_index=True, left_index=True)\n",
    "print zout"
   ]
  },
  {
   "cell_type": "markdown",
   "metadata": {},
   "source": [
    "**7)** What are the central objects in each cluster? Describe them as customers."
   ]
  },
  {
   "cell_type": "markdown",
   "metadata": {
    "collapsed": true
   },
   "source": [
    "#### Answer:\n",
    "- The above table provides an interpretation of the centroid of each cluster in terms of the original features. For example:\n",
    "- - One cluster in KMeans with 2 clusters represents a clustomer who buys Fresh of {{znum[1]}}, Milk of 9343, Grocery of 10365, Frozen of 6719, Detergents_Paper of 3156, and Delicatessen of 3234.\n",
    "- - One cluster in GMM with 4 clusters represents a clustomer who buys Fresh of 37666, Milk of 5977, Grocery of 6369, Frozen of 5521, Detergents_Paper of 1554, and Delicatessen of 2401."
   ]
  },
  {
   "cell_type": "markdown",
   "metadata": {},
   "source": [
    "### Conclusions\n",
    "\n",
    "** 8)** Which of these techniques did you feel gave you the most insight into the data?"
   ]
  },
  {
   "cell_type": "markdown",
   "metadata": {
    "collapsed": true
   },
   "source": [
    "#### Answer:\n",
    "- Scaling: \"No scaling\" proved to be the best. \"Row scaling\" was ambiguous. \"Column scaling\" was not necessary.\n",
    "- PCA vs ICA: PCA gave more insight than ICA. PCA could reduce the number of components. ICA was not necessary.\n",
    "- KMeans versus GMM: KMeans seemed more straightforward than GMM. KMeans produced distinct clusters. GMM produced indistinct clusters."
   ]
  },
  {
   "cell_type": "markdown",
   "metadata": {
    "collapsed": true
   },
   "source": [
    "**9)** How would you use that technique to help the company design new experiments?"
   ]
  },
  {
   "cell_type": "markdown",
   "metadata": {},
   "source": [
    "#### Answer:\n",
    "- Let us say that the original dataset was analyzed by using PCA and KMeans with 3 clusters.\n",
    "- As shown in the above table:\n",
    "- - Customers in one cluster buy a lot of Grocery (worth 27401). Let us call them \"Grocery-type\" customers.\n",
    "- - Customers in another cluster buy a lot of Fresh (worth 359058). Let us call them \"Fresh-type\" customers.\n",
    "- - Customers in the other cluster buy a mixed variety. Let us call them \"Mixed-type\" customers.\n",
    "- Let us say that \"Grocery-type\" customers are the most profitable for this business. \n",
    "- A new A/B test experiment may be designed as follows.\n",
    "- - Subset the original dataset corresponding to \"Grocerty-type\" customers.\n",
    "- - Apply PCA to the sub dataset.\n",
    "- - Create a reduced dataset using 2 principal components.\n",
    "- - Apply KMeans with 2 or 3 clusters to the reduced dataset.\n",
    "- - Analyze these sub clusters.\n",
    "- Likely oucome of this A/B testing may be\"\n",
    "- - One sub cluster buys a lot of Fresh.\n",
    "- - Another sub cluster buys a lot of Frozen."
   ]
  },
  {
   "cell_type": "markdown",
   "metadata": {},
   "source": [
    "**10)** How would you use that data to help you predict future customer needs?"
   ]
  },
  {
   "cell_type": "markdown",
   "metadata": {},
   "source": [
    "#### Answer:\n",
    "- Let us say that the original dataset was analyzed by using PCA and KMeans with 3 clusters.\n",
    "- Let us say the \"Mixed-type\" customers are not profitable for this business.\n",
    "- Then, the business can be made more profitable as follows.\n",
    "- - Advertise to attract more \"Grocery-type\" and \"Fresh-type\" customers and less \"Mixed-type\" customers.\n",
    "- - Buy more items for \"Grocery-type\" and \"Fresh-type\" customers and no items for \"Mixed-type\" customers.\n",
    "- - Arrange the inventory to suit for \"Grocery-type\" and \"Fresh-type\" customers.\n",
    "- - Keep and schedule personnel to cater to the needs of \"Grocery-type\" and \"Fresh-type\" customers."
   ]
  }
 ],
 "metadata": {
  "kernelspec": {
   "display_name": "Python 2",
   "language": "python",
   "name": "python2"
  },
  "language_info": {
   "codemirror_mode": {
    "name": "ipython",
    "version": 2
   },
   "file_extension": ".py",
   "mimetype": "text/x-python",
   "name": "python",
   "nbconvert_exporter": "python",
   "pygments_lexer": "ipython2",
   "version": "2.7.11"
  }
 },
 "nbformat": 4,
 "nbformat_minor": 0
}
